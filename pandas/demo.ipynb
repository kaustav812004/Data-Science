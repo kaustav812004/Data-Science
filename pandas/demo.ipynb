{
 "cells": [
  {
   "cell_type": "code",
   "execution_count": 11,
   "id": "b4eb5c04",
   "metadata": {},
   "outputs": [],
   "source": [
    "!pip install pandas"
   ]
  },
  {
   "cell_type": "code",
   "execution_count": 1,
   "id": "13baa329",
   "metadata": {},
   "outputs": [],
   "source": [
    "import pandas as pd"
   ]
  },
  {
   "cell_type": "code",
   "execution_count": 47,
   "id": "0c3ad5a3",
   "metadata": {},
   "outputs": [],
   "source": [
    "# Dataset\n",
    "data = {\n",
    "  'student': [\"Amit\", \"John\", \"Jacob\", \"David\", \"Steve\", \"Kaustav\"],\n",
    "  'rank': [1, 4, 3, 5, 2, 6],\n",
    "  'marks': [95, 70, 80, 60, 90, 40]\n",
    "}"
   ]
  },
  {
   "cell_type": "code",
   "execution_count": 48,
   "id": "c1618520",
   "metadata": {},
   "outputs": [
    {
     "name": "stdout",
     "output_type": "stream",
     "text": [
      "Student Records\n",
      "\n",
      "    student  rank  marks\n",
      "0     Amit     1     95\n",
      "1     John     4     70\n",
      "2    Jacob     3     80\n",
      "3    David     5     60\n",
      "4    Steve     2     90\n",
      "5  Kaustav     6     40\n"
     ]
    }
   ],
   "source": [
    "df = pd.DataFrame(data)\n",
    "print(\"Student Records\\n\\n\", df)"
   ]
  },
  {
   "cell_type": "markdown",
   "id": "b5c70ab1",
   "metadata": {},
   "source": [
    "Access a group of rows or columns in a Pandas DataFrame\n",
    "The dataframe.loc is used in Pandas to access a group of rows or columns in a DataFrame"
   ]
  },
  {
   "cell_type": "code",
   "execution_count": 53,
   "id": "30e835c5",
   "metadata": {},
   "outputs": [
    {
     "name": "stdout",
     "output_type": "stream",
     "text": [
      "      student  rank  marks\n",
      "RowA     Amit     1     95\n",
      "RowB     John     4     70\n",
      "RowC    Jacob     3     80\n",
      "RowD    David     5     60\n",
      "RowE    Steve     2     90\n",
      "RowF  Kaustav     6     40\n",
      "\n",
      "Value =  Amit\n",
      "\n",
      " student    Amit\n",
      "rank          1\n",
      "marks        95\n",
      "Name: RowA, dtype: object\n"
     ]
    }
   ],
   "source": [
    "df = pd.DataFrame(data, index=['RowA', 'RowB', 'RowC', 'RowD', 'RowE', 'RowF'])\n",
    "print(df)\n",
    "# Access the value in the student column corresponding to the RowA label\n",
    "print(\"\\nValue = \",df.loc['RowA', 'student'])\n",
    "print(\"\\n\",df.loc['RowA'])"
   ]
  },
  {
   "cell_type": "markdown",
   "id": "c413f4b8",
   "metadata": {},
   "source": [
    "Access a group of rows or columns by integer positions in a Pandas DataFrame\n",
    "The dataframe.iloc is used to access a group of rows or columns by integers. We have also set columns and indexes"
   ]
  },
  {
   "cell_type": "code",
   "execution_count": 54,
   "id": "0c25288d",
   "metadata": {},
   "outputs": [
    {
     "name": "stdout",
     "output_type": "stream",
     "text": [
      "Value = \n",
      "      student  rank  marks\n",
      "RowB    John     4     70\n",
      "RowC   Jacob     3     80\n"
     ]
    }
   ],
   "source": [
    "print(\"Value = \\n\", df.iloc[[1,2]])"
   ]
  },
  {
   "cell_type": "markdown",
   "id": "65a98f88",
   "metadata": {},
   "source": [
    "Iterate a df"
   ]
  },
  {
   "cell_type": "code",
   "execution_count": 55,
   "id": "791d7322",
   "metadata": {},
   "outputs": [
    {
     "name": "stdout",
     "output_type": "stream",
     "text": [
      "Student records \n",
      " \n",
      "           student  rank  marks\n",
      "Student1     Amit     1     95\n",
      "Student2     John     4     70\n",
      "Student3    Jacob     3     80\n",
      "Student4    David     5     60\n",
      "Student5    Steve     2     90\n",
      "Student6  Kaustav     6     40\n",
      "\n",
      " Displaying the columns: \n",
      "student\n",
      "rank\n",
      "marks\n"
     ]
    }
   ],
   "source": [
    "df = pd.DataFrame(data, index=['Student1', 'Student2', 'Student3', 'Student4', 'Student5', 'Student6'])\n",
    "print(\"Student records \\n \\n\", df)\n",
    "\n",
    "print(\"\\n Displaying the columns: \")\n",
    "for col in df:\n",
    "    print(col)"
   ]
  },
  {
   "cell_type": "code",
   "execution_count": 61,
   "id": "0edef34f",
   "metadata": {},
   "outputs": [
    {
     "name": "stdout",
     "output_type": "stream",
     "text": [
      "Datatypes: \n",
      " student    object\n",
      "rank        int64\n",
      "marks       int64\n",
      "dtype: object\n"
     ]
    }
   ],
   "source": [
    "print(\"Datatypes: \\n\", df.dtypes)"
   ]
  },
  {
   "cell_type": "code",
   "execution_count": 62,
   "id": "24a29d30",
   "metadata": {},
   "outputs": [
    {
     "name": "stdout",
     "output_type": "stream",
     "text": [
      "          student  rank  marks\n",
      "Student1     Amit     1     95\n",
      "Student2     John     4     70\n",
      "Student3    Jacob     3     80\n",
      "Student4    David     5     60\n",
      "Student5    Steve     2     90\n",
      "Student6  Kaustav     6     40\n",
      "No. of dimensions:  2\n",
      "No of elements:  18\n",
      "Dimensionality:  (6, 3)\n"
     ]
    }
   ],
   "source": [
    "print(df)\n",
    "print(\"No. of dimensions: \", df.ndim)\n",
    "print(\"No of elements: \", df.size)\n",
    "print(\"Dimensionality: \", df.shape)"
   ]
  },
  {
   "cell_type": "code",
   "execution_count": 63,
   "id": "e23ecdbf",
   "metadata": {},
   "outputs": [
    {
     "name": "stdout",
     "output_type": "stream",
     "text": [
      "Dataframe index:  Index(['Student1', 'Student2', 'Student3', 'Student4', 'Student5', 'Student6'], dtype='object')\n"
     ]
    }
   ],
   "source": [
    "print(\"Dataframe index: \", df.index)"
   ]
  },
  {
   "cell_type": "code",
   "execution_count": 64,
   "id": "9d0f087f",
   "metadata": {},
   "outputs": [
    {
     "name": "stdout",
     "output_type": "stream",
     "text": [
      "          student  rank  marks\n",
      "Student1     Amit     1     95\n",
      "Student2     John     4     70\n",
      "Student3    Jacob     3     80\n",
      "Student4    David     5     60\n",
      "Student5    Steve     2     90\n",
      "Student6  Kaustav     6     40\n",
      "\n",
      "Transpose: \n",
      "         Student1 Student2 Student3 Student4 Student5 Student6\n",
      "student     Amit     John    Jacob    David    Steve  Kaustav\n",
      "rank           1        4        3        5        2        6\n",
      "marks         95       70       80       60       90       40\n"
     ]
    }
   ],
   "source": [
    "print(df)\n",
    "print(\"\\nTranspose: \\n\", df.T)"
   ]
  },
  {
   "cell_type": "markdown",
   "id": "e02ac47a",
   "metadata": {},
   "source": [
    "head()\n",
    "The pandas.DataFrame.head() is used to return the first n rows.\n",
    "\n",
    "tail()\n",
    "The pandas.DataFrame.tail() is used to return the last n rows.\n",
    "\n"
   ]
  },
  {
   "cell_type": "code",
   "execution_count": 65,
   "id": "3bbdb073",
   "metadata": {},
   "outputs": [
    {
     "name": "stdout",
     "output_type": "stream",
     "text": [
      "First 5 rows: \n",
      "          student  rank  marks\n",
      "Student1    Amit     1     95\n",
      "Student2    John     4     70\n",
      "Student3   Jacob     3     80\n",
      "Student4   David     5     60\n",
      "Student5   Steve     2     90\n",
      "\n",
      "Last 5 rows: \n",
      "           student  rank  marks\n",
      "Student2     John     4     70\n",
      "Student3    Jacob     3     80\n",
      "Student4    David     5     60\n",
      "Student5    Steve     2     90\n",
      "Student6  Kaustav     6     40\n"
     ]
    }
   ],
   "source": [
    "print(\"First 5 rows: \\n\", df.head())\n",
    "print(\"\\nLast 5 rows: \\n\", df.tail())"
   ]
  },
  {
   "cell_type": "markdown",
   "id": "aa02bb64",
   "metadata": {},
   "source": [
    "Join two df (Joined if both have same index)"
   ]
  },
  {
   "cell_type": "code",
   "execution_count": 74,
   "id": "afa74cee",
   "metadata": {},
   "outputs": [
    {
     "name": "stdout",
     "output_type": "stream",
     "text": [
      "DataFrame1 =\n",
      "     id student  roll\n",
      "1  S01    Amit   101\n",
      "2  S02    John   102\n",
      "3  S03   Jacob   103\n",
      "4  S04   David   104\n",
      "5  S05   Steve   105\n",
      "\n",
      "DataFrame2 =\n",
      "    rank  marks\n",
      "1     1     95\n",
      "2     4     70\n",
      "3     3     80\n",
      "4     5     60\n",
      "5     2     90\n",
      "\n",
      "Joining DataFrames =\n",
      "     id student  roll  rank  marks\n",
      "1  S01    Amit   101     1     95\n",
      "2  S02    John   102     4     70\n",
      "3  S03   Jacob   103     3     80\n",
      "4  S04   David   104     5     60\n",
      "5  S05   Steve   105     2     90\n"
     ]
    }
   ],
   "source": [
    "data1 = {\n",
    "  'id': [\"S01\", \"S02\", \"S03\", \"S04\", \"S05\"],\n",
    "  'student': [\"Amit\", \"John\", \"Jacob\", \"David\", \"Steve\"],\n",
    "  'roll': [101, 102, 103, 104, 105]\n",
    "}\n",
    "data2 = {\n",
    "  'rank': [1, 4, 3, 5, 2],\n",
    "  'marks': [95, 70, 80, 60, 90]\n",
    "}\n",
    " \n",
    "# DataFrame\n",
    "dataFrame1 = pd.DataFrame(data1, index=[1,2,3,4,5])\n",
    "print(\"DataFrame1 =\\n\",dataFrame1)\n",
    "dataFrame2 = pd.DataFrame(data2, index=[1,2,3,4,5])\n",
    "print(\"\\nDataFrame2 =\\n\",dataFrame2)\n",
    " \n",
    "# Join two DataFrames\n",
    "resDF = dataFrame1.join(dataFrame2)\n",
    "print(\"\\nJoining DataFrames =\\n\",resDF)"
   ]
  },
  {
   "cell_type": "markdown",
   "id": "c9152546",
   "metadata": {},
   "source": [
    "Concatenate (concatenated if both have indexes in a continuous fashion)"
   ]
  },
  {
   "cell_type": "code",
   "execution_count": 76,
   "id": "c2563096",
   "metadata": {},
   "outputs": [
    {
     "name": "stdout",
     "output_type": "stream",
     "text": [
      "DataFrame1 =\n",
      "     id student  roll\n",
      "0  S01    Amit   101\n",
      "1  S02    John   102\n",
      "2  S03   Jacob   103\n",
      "3  S04   David   104\n",
      "4  S05   Steve   105\n",
      "\n",
      "DataFrame2 =\n",
      "     id student  roll\n",
      "5  S06     Ben   106\n",
      "6  S07    Kane   107\n",
      "7  S08   Rohit   108\n",
      "\n",
      "Concatenating DataFrames =\n",
      "     id student  roll\n",
      "0  S01    Amit   101\n",
      "1  S02    John   102\n",
      "2  S03   Jacob   103\n",
      "3  S04   David   104\n",
      "4  S05   Steve   105\n",
      "5  S06     Ben   106\n",
      "6  S07    Kane   107\n",
      "7  S08   Rohit   108\n"
     ]
    }
   ],
   "source": [
    "data1 = {\n",
    "  'id': [\"S01\", \"S02\", \"S03\", \"S04\", \"S05\"],\n",
    "  'student': [\"Amit\", \"John\", \"Jacob\", \"David\", \"Steve\"],\n",
    "  'roll': [101, 102, 103, 104, 105]\n",
    "}\n",
    "data2 = {\n",
    "  'id': [\"S06\", \"S07\", \"S08\"],\n",
    "  'student': [\"Ben\", \"Kane\", \"Rohit\"],\n",
    "  'roll': [106, 107, 108]\n",
    "}\n",
    " \n",
    "# DataFrame\n",
    "dataFrame1 = pd.DataFrame(data1, index=[0, 1, 2, 3, 4])\n",
    "print(\"DataFrame1 =\\n\",dataFrame1)\n",
    "dataFrame2 = pd.DataFrame(data2, index=[5, 6, 7])\n",
    "print(\"\\nDataFrame2 =\\n\",dataFrame2)\n",
    " \n",
    "# Concatenating two DataFrames\n",
    "resDF = pd.concat([dataFrame1, dataFrame2])\n",
    "print(\"\\nConcatenating DataFrames =\\n\",resDF)"
   ]
  },
  {
   "cell_type": "markdown",
   "id": "9341f788",
   "metadata": {},
   "source": [
    "Series in Pandas\n",
    "Series in Pandas is a one-dimensional array, like a column in a table. It is a labeled array that can hold data of any type. The Series() method is used for this and has the following parameters:\n",
    "\n",
    "data: The data to be stored in the Pandas Series\n",
    "index: The index values should have the same length as the data.\n",
    "dtype: It is the datatype for the output Series.\n",
    "name: Set the series name with the name parameter\n",
    "copy: To copy the input data"
   ]
  },
  {
   "cell_type": "code",
   "execution_count": 92,
   "id": "91371d24",
   "metadata": {},
   "outputs": [
    {
     "name": "stdout",
     "output_type": "stream",
     "text": [
      "1     10\n",
      "2     20\n",
      "3     40\n",
      "4     60\n",
      "5    100\n",
      "Name: MynumSeries, dtype: int64\n",
      "Value:  20\n",
      "dimension: 1\n",
      "data type:  int64\n",
      "shape:  (5,)\n",
      "Size:  5\n",
      "Name:  MynumSeries\n",
      "Index([1, 2, 3, 4, 5], dtype='int64')\n",
      "\n",
      "\n",
      " Information\n",
      "<bound method Series.info of 1     10\n",
      "2     20\n",
      "3     40\n",
      "4     60\n",
      "5    100\n",
      "Name: MynumSeries, dtype: int64>\n"
     ]
    }
   ],
   "source": [
    "seriesdata = [10, 20, 40, 60, 100]\n",
    "s = pd.Series(seriesdata, index=[1,2,3,4,5], name=\"MynumSeries\")\n",
    "print(s)\n",
    "print(\"Value: \", s[2])\n",
    "print(\"dimension:\",s.ndim)\n",
    "print(\"data type: \",s.dtype)\n",
    "print(\"shape: \",s.shape)\n",
    "print(\"Size: \",s.size)\n",
    "print(\"Name: \", s.name)\n",
    "print(s.index)\n",
    "print(\"\\n\\n Information\")\n",
    "print(s.info)"
   ]
  },
  {
   "cell_type": "code",
   "execution_count": 93,
   "id": "7b52c1fe",
   "metadata": {},
   "outputs": [
    {
     "data": {
      "text/plain": [
       "<bound method DataFrame.info of           student  rank  marks\n",
       "Student1     Amit     1     95\n",
       "Student2     John     4     70\n",
       "Student3    Jacob     3     80\n",
       "Student4    David     5     60\n",
       "Student5    Steve     2     90\n",
       "Student6  Kaustav     6     40>"
      ]
     },
     "execution_count": 93,
     "metadata": {},
     "output_type": "execute_result"
    }
   ],
   "source": [
    "df.info"
   ]
  },
  {
   "cell_type": "markdown",
   "id": "245ccb1e",
   "metadata": {},
   "source": [
    "hasnans\n",
    "The pandas.series.hasnans attribute returns True if NaNs are in the Pandas Series."
   ]
  },
  {
   "cell_type": "code",
   "execution_count": null,
   "id": "b3ecb4ad",
   "metadata": {},
   "outputs": [
    {
     "name": "stdout",
     "output_type": "stream",
     "text": [
      "Series: \n",
      " 0     10.0\n",
      "1     20.0\n",
      "2     40.0\n",
      "3     80.0\n",
      "4    100.0\n",
      "5      NaN\n",
      "dtype: float64\n",
      "\n",
      "Does the Series has NaN?  True\n"
     ]
    }
   ],
   "source": [
    "import pandas as pd\n",
    "import numpy as np\n",
    " \n",
    "# Data to be stored in the Pandas Series\n",
    "dataser = [10, 20, 40, 80, 100, np.nan]\n",
    " \n",
    "# Create a Series using the Series() method\n",
    "s2 = pd.Series(dataser)\n",
    " \n",
    "# Display the Series\n",
    "print(\"Series: \\n\", s2)\n",
    " \n",
    "# Check whether the Series has NaNs\n",
    "print(\"\\nDoes the Series has nan? \", s2.hasnans)"
   ]
  },
  {
   "cell_type": "markdown",
   "id": "57d13c22",
   "metadata": {},
   "source": [
    "Combine two Pandas series into one\n",
    "To combine two Pandas series into one in Python, use the combine() method. It uses a specific function for the decision, mentioned by the user as a parameter of the combine() method."
   ]
  },
  {
   "cell_type": "code",
   "execution_count": 100,
   "id": "ae0db316",
   "metadata": {},
   "outputs": [
    {
     "name": "stdout",
     "output_type": "stream",
     "text": [
      "Before combining the series:\n",
      "\n",
      "Series1: \n",
      " 0     10\n",
      "1     20\n",
      "2     40\n",
      "3     80\n",
      "4    100\n",
      "dtype: int64\n",
      "Series2: \n",
      " 0    25\n",
      "1     5\n",
      "2    75\n",
      "3    95\n",
      "4    45\n",
      "dtype: int64\n",
      "\n",
      "After combining into one:\n",
      " 0     25\n",
      "1     20\n",
      "2     75\n",
      "3     95\n",
      "4    100\n",
      "dtype: int64\n"
     ]
    }
   ],
   "source": [
    "import pandas as pd\n",
    " \n",
    "# Data to be stored in the Pandas Series\n",
    "data1 = [10, 20, 40, 80, 100]\n",
    "data2 = [25, 5, 75, 95, 45] \n",
    " \n",
    "# Create a Series using the Series() method\n",
    "series1 = pd.Series(data1)\n",
    "series2 = pd.Series(data2)\n",
    " \n",
    "# Display the Series\n",
    "print(\"Before combining the series:\\n\") \n",
    "print(\"Series1: \\n\",series1)\n",
    "print(\"Series2: \\n\",series2)\n",
    " \n",
    "def demo(x1, x2) :\n",
    "  if (x1 > x2):\n",
    "    return x1\n",
    "  else:\n",
    "    return x2\n",
    " \n",
    "# Combine two series into one\n",
    "# The function returns the largest value\n",
    "res = series1.combine(series2, demo) \n",
    "  \n",
    "# Display the result\n",
    "print(\"\\nAfter combining into one:\\n\",res)"
   ]
  },
  {
   "cell_type": "code",
   "execution_count": null,
   "id": "be93a732",
   "metadata": {},
   "outputs": [],
   "source": []
  }
 ],
 "metadata": {
  "kernelspec": {
   "display_name": "venv",
   "language": "python",
   "name": "venv"
  },
  "language_info": {
   "codemirror_mode": {
    "name": "ipython",
    "version": 3
   },
   "file_extension": ".py",
   "mimetype": "text/x-python",
   "name": "python",
   "nbconvert_exporter": "python",
   "pygments_lexer": "ipython3",
   "version": "3.12.10"
  }
 },
 "nbformat": 4,
 "nbformat_minor": 5
}
