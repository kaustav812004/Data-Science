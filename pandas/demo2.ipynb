{
 "cells": [
  {
   "cell_type": "code",
   "execution_count": 1,
   "id": "49d50d41",
   "metadata": {},
   "outputs": [],
   "source": [
    "import pandas as pd"
   ]
  },
  {
   "cell_type": "code",
   "execution_count": 8,
   "id": "50eff307",
   "metadata": {},
   "outputs": [
    {
     "name": "stdout",
     "output_type": "stream",
     "text": [
      "   Frequency  Points\n",
      "0   2.4         83.5\n",
      "1  3.2          21.6\n",
      "2        6.1     NaN\n",
      "3     1.2       45.9\n",
      "4   2.9         19.3\n",
      "5   3.8         23.9\n",
      "6        4.5     NaN\n",
      "7   8.3         66.3\n",
      "8   7.9         74.7\n",
      "9   5.8         67.5\n"
     ]
    }
   ],
   "source": [
    "df = pd.read_csv(\"practice.csv\")\n",
    "print(df)"
   ]
  },
  {
   "cell_type": "code",
   "execution_count": 19,
   "id": "7cf51e84",
   "metadata": {},
   "outputs": [
    {
     "name": "stdout",
     "output_type": "stream",
     "text": [
      "Frequency    0\n",
      "Points       2\n"
     ]
    }
   ],
   "source": [
    "resdf = df.isnull().sum()\n",
    "print(resdf.to_string())"
   ]
  },
  {
   "cell_type": "code",
   "execution_count": 20,
   "id": "c388b20d",
   "metadata": {},
   "outputs": [
    {
     "name": "stdout",
     "output_type": "stream",
     "text": [
      "   Frequency  Points\n",
      "0       True    True\n",
      "1       True    True\n",
      "2       True   False\n",
      "3       True    True\n",
      "4       True    True\n",
      "5       True    True\n",
      "6       True   False\n",
      "7       True    True\n",
      "8       True    True\n",
      "9       True    True\n"
     ]
    }
   ],
   "source": [
    "ansdf = df.notnull()\n",
    "print(ansdf)"
   ]
  },
  {
   "cell_type": "code",
   "execution_count": 13,
   "id": "3798e841",
   "metadata": {},
   "outputs": [
    {
     "name": "stdout",
     "output_type": "stream",
     "text": [
      "   Frequency  Points\n",
      "0   2.4         83.5\n",
      "1  3.2          21.6\n",
      "2        6.1     NaN\n",
      "3     1.2       45.9\n",
      "4   2.9         19.3\n",
      "5   3.8         23.9\n",
      "6        4.5     NaN\n",
      "7   8.3         66.3\n",
      "8   7.9         74.7\n",
      "9   5.8         67.5\n",
      "\n",
      "\n",
      "    Frequency  Points\n",
      "0   2.4         83.5\n",
      "1  3.2          21.6\n",
      "3     1.2       45.9\n",
      "4   2.9         19.3\n",
      "5   3.8         23.9\n",
      "7   8.3         66.3\n",
      "8   7.9         74.7\n",
      "9   5.8         67.5\n"
     ]
    }
   ],
   "source": [
    "print(df)\n",
    "resdf = df.dropna()\n",
    "print(\"\\n\\n\",resdf)"
   ]
  },
  {
   "cell_type": "code",
   "execution_count": 14,
   "id": "a0cab1aa",
   "metadata": {},
   "outputs": [
    {
     "name": "stdout",
     "output_type": "stream",
     "text": [
      "   Frequency  Points\n",
      "0   2.4         83.5\n",
      "1  3.2          21.6\n",
      "2        6.1       0\n",
      "3     1.2       45.9\n",
      "4   2.9         19.3\n",
      "5   3.8         23.9\n",
      "6        4.5       0\n",
      "7   8.3         66.3\n",
      "8   7.9         74.7\n",
      "9   5.8         67.5\n"
     ]
    }
   ],
   "source": [
    "datanew = df.fillna(000)\n",
    "print(datanew)"
   ]
  },
  {
   "cell_type": "code",
   "execution_count": null,
   "id": "216b5c3f",
   "metadata": {},
   "outputs": [],
   "source": []
  }
 ],
 "metadata": {
  "kernelspec": {
   "display_name": "venv",
   "language": "python",
   "name": "venv"
  },
  "language_info": {
   "codemirror_mode": {
    "name": "ipython",
    "version": 3
   },
   "file_extension": ".py",
   "mimetype": "text/x-python",
   "name": "python",
   "nbconvert_exporter": "python",
   "pygments_lexer": "ipython3",
   "version": "3.12.10"
  }
 },
 "nbformat": 4,
 "nbformat_minor": 5
}
