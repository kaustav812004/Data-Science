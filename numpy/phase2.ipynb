{
 "cells": [
  {
   "cell_type": "code",
   "execution_count": 1,
   "id": "7ee13d07",
   "metadata": {},
   "outputs": [
    {
     "name": "stdout",
     "output_type": "stream",
     "text": [
      "Requirement already satisfied: numpy in c:\\users\\kaust\\desktop\\numpytut\\venv\\lib\\site-packages (2.3.2)\n"
     ]
    },
    {
     "name": "stderr",
     "output_type": "stream",
     "text": [
      "\n",
      "[notice] A new release of pip is available: 25.0.1 -> 25.2\n",
      "[notice] To update, run: python.exe -m pip install --upgrade pip\n"
     ]
    }
   ],
   "source": [
    "!pip install numpy"
   ]
  },
  {
   "cell_type": "code",
   "execution_count": 2,
   "id": "cc7e3c62",
   "metadata": {},
   "outputs": [],
   "source": [
    "import numpy as np"
   ]
  },
  {
   "cell_type": "markdown",
   "id": "be023a9f",
   "metadata": {},
   "source": [
    "1D Array Slicing"
   ]
  },
  {
   "cell_type": "code",
   "execution_count": 4,
   "id": "ddd67595",
   "metadata": {},
   "outputs": [
    {
     "name": "stdout",
     "output_type": "stream",
     "text": [
      "[1 2 3 4 5 6 7 8 9]\n",
      "Basic slicing:  [3 4 5 6 7]\n",
      "Slice with step:  [2 4 6 8]\n",
      "Negative index:  6\n"
     ]
    }
   ],
   "source": [
    "arr = np.arange(1,10)\n",
    "print(arr)\n",
    "print(\"Basic slicing: \", arr[2:7])\n",
    "print(\"Slice with step: \", arr[1:8:2])\n",
    "print(\"Negative index: \", arr[-4])"
   ]
  },
  {
   "cell_type": "markdown",
   "id": "bccd80df",
   "metadata": {},
   "source": [
    "2D Array Slicing"
   ]
  },
  {
   "cell_type": "code",
   "execution_count": 9,
   "id": "362ec801",
   "metadata": {},
   "outputs": [
    {
     "name": "stdout",
     "output_type": "stream",
     "text": [
      "[[1 2 3]\n",
      " [4 5 6]\n",
      " [7 8 9]]\n",
      "Specific element:  6\n",
      "Entire Row:  [4 5 6]\n",
      "Entire Column:  [3 6 9]\n"
     ]
    }
   ],
   "source": [
    "arr_2d = np.array([[1,2,3],\n",
    "                  [4,5,6],\n",
    "                  [7,8,9]])\n",
    "\n",
    "print(arr_2d)\n",
    "print(\"Specific element: \",arr_2d[1, 2])\n",
    "print(\"Entire Row: \", arr_2d[1,:])\n",
    "print(\"Entire Column: \", arr_2d[:, 2])"
   ]
  },
  {
   "cell_type": "markdown",
   "id": "02239bd7",
   "metadata": {},
   "source": [
    "Sorting"
   ]
  },
  {
   "cell_type": "code",
   "execution_count": 15,
   "id": "f1c356ae",
   "metadata": {},
   "outputs": [
    {
     "name": "stdout",
     "output_type": "stream",
     "text": [
      "Sorted array:  [1 1 2 3 3 4 5 6 6 7 9]\n",
      "sorted 2d array by column:  [[1 1]\n",
      " [2 2]\n",
      " [3 3]]\n",
      "sorted 2d array by row:  [[1 3]\n",
      " [1 2]\n",
      " [2 3]]\n"
     ]
    }
   ],
   "source": [
    "unsorted = np.array([3, 1, 4, 1, 5, 9, 3, 2, 6, 7, 6])\n",
    "print(\"Sorted array: \", np.sort(unsorted))\n",
    "\n",
    "arr_2d_unsort = np.array([[3,1], [1,2], [2,3]])\n",
    "print(\"sorted 2d array by column: \", np.sort(arr_2d_unsort, axis=0))\n",
    "print(\"sorted 2d array by row: \", np.sort(arr_2d_unsort, axis=1))"
   ]
  },
  {
   "cell_type": "markdown",
   "id": "36ec83be",
   "metadata": {},
   "source": [
    "Filter"
   ]
  },
  {
   "cell_type": "code",
   "execution_count": null,
   "id": "2a83e2eb",
   "metadata": {},
   "outputs": [
    {
     "name": "stdout",
     "output_type": "stream",
     "text": [
      "[ 1  2  3  4  5  6  7  8  9 10]\n",
      "[ 2  4  6  8 10]\n"
     ]
    }
   ],
   "source": [
    "#Print even numbers in a array\n",
    "num = np.arange(1, 11)\n",
    "print(num)\n",
    "even = num[num % 2 == 0]\n",
    "print(even)"
   ]
  },
  {
   "cell_type": "markdown",
   "id": "28dec4da",
   "metadata": {},
   "source": [
    "Filter with Mask"
   ]
  },
  {
   "cell_type": "code",
   "execution_count": 22,
   "id": "aa163c47",
   "metadata": {},
   "outputs": [
    {
     "name": "stdout",
     "output_type": "stream",
     "text": [
      "Numbers greater than 5:  [ 6  7  8  9 10]\n"
     ]
    }
   ],
   "source": [
    "mask = num > 5\n",
    "print(\"Numbers greater than 5: \", num[mask])"
   ]
  },
  {
   "cell_type": "markdown",
   "id": "8e6b3cd7",
   "metadata": {},
   "source": [
    "Fancy Indexing vs np.where()"
   ]
  },
  {
   "cell_type": "code",
   "execution_count": 27,
   "id": "5cdc10ff",
   "metadata": {},
   "outputs": [
    {
     "name": "stdout",
     "output_type": "stream",
     "text": [
      "[1 3 5]\n",
      "(array([5, 6, 7, 8, 9]),)\n",
      "NP where: [ 6  7  8  9 10]\n"
     ]
    }
   ],
   "source": [
    "indices = [0,2,4]\n",
    "print(num[indices])\n",
    "\n",
    "where_res = np.where(num>5)\n",
    "print(where_res)\n",
    "print(\"NP where:\", num[where_res])"
   ]
  },
  {
   "cell_type": "code",
   "execution_count": 42,
   "id": "8e014e05",
   "metadata": {},
   "outputs": [
    {
     "name": "stdout",
     "output_type": "stream",
     "text": [
      "[ 2  4  6  8 10 24 28 32 36 40]\n",
      "[False False False False False  True  True  True  True  True]\n"
     ]
    }
   ],
   "source": [
    "condition_array = np.where(num>5, num*4, num*2)    #(condition, x, y)\n",
    "print(condition_array)\n",
    "\n",
    "# if(num > 5){\n",
    "#     num*4\n",
    "# }else{\n",
    "#     num*2\n",
    "# }\n",
    "\n",
    "condition_array = np.where(num>5, True, False)    #(condition, x, y)\n",
    "print(condition_array)"
   ]
  },
  {
   "cell_type": "markdown",
   "id": "6bf8f66b",
   "metadata": {},
   "source": [
    "Adding and removing the data"
   ]
  },
  {
   "cell_type": "code",
   "execution_count": 45,
   "id": "81a24116",
   "metadata": {},
   "outputs": [
    {
     "name": "stdout",
     "output_type": "stream",
     "text": [
      "After adding:  [5 7 9]\n",
      "[1 2 3 4 5 6]\n"
     ]
    }
   ],
   "source": [
    "arr1 = np.array([1, 2, 3])\n",
    "arr2 = np.array([4, 5, 6])\n",
    "\n",
    "add = arr1+arr2\n",
    "print(\"After adding: \",add)\n",
    "\n",
    "comb = np.concatenate((arr1, arr2))\n",
    "print(comb)"
   ]
  },
  {
   "cell_type": "markdown",
   "id": "0342ceba",
   "metadata": {},
   "source": [
    "Array Compatibility"
   ]
  },
  {
   "cell_type": "code",
   "execution_count": 48,
   "id": "a7b63182",
   "metadata": {},
   "outputs": [
    {
     "name": "stdout",
     "output_type": "stream",
     "text": [
      "Compatibility Shapes:  True\n",
      "Compatibility Shapes:  False\n"
     ]
    }
   ],
   "source": [
    "a = np.array([1,2,3])\n",
    "b = np.array([4,5,6])\n",
    "c = np.array([7,8,9, 10])\n",
    "\n",
    "print(\"Compatibility Shapes: \", a.shape==b.shape)\n",
    "print(\"Compatibility Shapes: \", a.shape==c.shape)"
   ]
  },
  {
   "cell_type": "code",
   "execution_count": 58,
   "id": "ae080f50",
   "metadata": {},
   "outputs": [
    {
     "name": "stdout",
     "output_type": "stream",
     "text": [
      "[[1 2]\n",
      " [3 4]]\n",
      "\n",
      " Vstack:  [[1 2]\n",
      " [3 4]\n",
      " [5 6]]\n",
      "\n",
      " [[1 2]\n",
      " [3 4]]\n",
      "\n",
      "Hstack:  [[ 1  2  5]\n",
      " [ 3  4 10]]\n"
     ]
    }
   ],
   "source": [
    "original = np.array([[1,2], [3,4]])\n",
    "new_row = np.array([[5,6]])\n",
    "\n",
    "with_new_row = np.vstack((original, new_row))    #vstack adds a new row\n",
    "print(original)\n",
    "print(\"\\n Vstack: \",with_new_row)\n",
    "\n",
    "print(\"\\n\",original)\n",
    "new_col = np.array([[5], [10]])\n",
    "with_new_col = np.hstack((original, new_col))\n",
    "print(\"\\nHstack: \",with_new_col)\n"
   ]
  },
  {
   "cell_type": "markdown",
   "id": "1b361bdc",
   "metadata": {},
   "source": [
    "Delete Ops"
   ]
  },
  {
   "cell_type": "code",
   "execution_count": 60,
   "id": "57f18b4a",
   "metadata": {},
   "outputs": [
    {
     "name": "stdout",
     "output_type": "stream",
     "text": [
      "[1 2 4 5]\n"
     ]
    }
   ],
   "source": [
    "arr = np.array([1,2,3,4,5])\n",
    "delete = np.delete(arr, 2)\n",
    "print(delete)  #return the array after deletion"
   ]
  },
  {
   "cell_type": "markdown",
   "id": "c5f421ad",
   "metadata": {},
   "source": [
    "Maths"
   ]
  },
  {
   "cell_type": "code",
   "execution_count": 66,
   "id": "86f262ac",
   "metadata": {},
   "outputs": [
    {
     "name": "stdout",
     "output_type": "stream",
     "text": [
      "addition:  [ 2  4  9 12 14]\n",
      "Multiply:  [ 1  4 18 32 45]\n",
      "Dot product:  100\n",
      "cos of angle between the two lines is :  0.1505105877034758\n"
     ]
    }
   ],
   "source": [
    "vec1 = np.array([1,2,3,4,5])\n",
    "vec2 = np.array([1,2,6,8,9])\n",
    "\n",
    "print(\"addition: \", vec1+vec2)\n",
    "print(\"Multiply: \", vec1*vec2)\n",
    "\n",
    "print(\"Dot product: \", np.dot(vec1, vec2))\n",
    "\n",
    "angle = np.arccos(np.dot(vec1, vec2)/(np.linalg.norm(vec1) * np.linalg.norm(vec2)))\n",
    "print(\"cos of angle between the two lines is : \", angle)"
   ]
  },
  {
   "cell_type": "markdown",
   "id": "5d2c5d7c",
   "metadata": {},
   "source": [
    "Vectorize"
   ]
  },
  {
   "cell_type": "code",
   "execution_count": 67,
   "id": "3af4f809",
   "metadata": {},
   "outputs": [
    {
     "name": "stdout",
     "output_type": "stream",
     "text": [
      "vectorized Upper:  ['BIRIYANI' 'TEA' 'PIZZA' 'COFFEE']\n"
     ]
    }
   ],
   "source": [
    "res_types = np.array(['biriyani', 'tea', 'pizza', 'coffee'])\n",
    "vectorized_upper = np.vectorize(str.upper)\n",
    "\n",
    "print(\"vectorized Upper: \", vectorized_upper(res_types))"
   ]
  },
  {
   "cell_type": "markdown",
   "id": "e414c17f",
   "metadata": {},
   "source": [
    "Broadcast"
   ]
  },
  {
   "cell_type": "code",
   "execution_count": null,
   "id": "884984a8",
   "metadata": {},
   "outputs": [],
   "source": []
  }
 ],
 "metadata": {
  "kernelspec": {
   "display_name": "venv (3.12.10)",
   "language": "python",
   "name": "python3"
  },
  "language_info": {
   "codemirror_mode": {
    "name": "ipython",
    "version": 3
   },
   "file_extension": ".py",
   "mimetype": "text/x-python",
   "name": "python",
   "nbconvert_exporter": "python",
   "pygments_lexer": "ipython3",
   "version": "3.12.10"
  }
 },
 "nbformat": 4,
 "nbformat_minor": 5
}
